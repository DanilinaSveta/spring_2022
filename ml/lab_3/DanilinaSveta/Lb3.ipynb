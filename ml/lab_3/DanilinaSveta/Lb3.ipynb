{
 "cells": [
  {
   "cell_type": "code",
   "execution_count": 1,
   "id": "c2f8a473-6362-446c-9e3a-cda8803518eb",
   "metadata": {},
   "outputs": [],
   "source": [
    "import pandas as pd\n",
    "import matplotlib.pyplot as plt\n",
    "import numpy as np\n",
    "import sklearn.preprocessing as preproc #для маштобирования minmax\n",
    "import seaborn as sns #для корреляции"
   ]
  },
  {
   "cell_type": "code",
   "execution_count": 2,
   "id": "8067373c-749a-4dec-a2f6-df71a0348443",
   "metadata": {},
   "outputs": [
    {
     "data": {
      "text/html": [
       "<div>\n",
       "<style scoped>\n",
       "    .dataframe tbody tr th:only-of-type {\n",
       "        vertical-align: middle;\n",
       "    }\n",
       "\n",
       "    .dataframe tbody tr th {\n",
       "        vertical-align: top;\n",
       "    }\n",
       "\n",
       "    .dataframe thead th {\n",
       "        text-align: right;\n",
       "    }\n",
       "</style>\n",
       "<table border=\"1\" class=\"dataframe\">\n",
       "  <thead>\n",
       "    <tr style=\"text-align: right;\">\n",
       "      <th></th>\n",
       "      <th>date</th>\n",
       "      <th>Temperature</th>\n",
       "      <th>Humidity</th>\n",
       "      <th>Light</th>\n",
       "      <th>CO2</th>\n",
       "      <th>HumidityRatio</th>\n",
       "      <th>Occupancy</th>\n",
       "    </tr>\n",
       "  </thead>\n",
       "  <tbody>\n",
       "    <tr>\n",
       "      <th>1</th>\n",
       "      <td>2015-02-04 17:51:00</td>\n",
       "      <td>23.18</td>\n",
       "      <td>27.2720</td>\n",
       "      <td>426.0</td>\n",
       "      <td>721.250000</td>\n",
       "      <td>0.004793</td>\n",
       "      <td>1</td>\n",
       "    </tr>\n",
       "    <tr>\n",
       "      <th>2</th>\n",
       "      <td>2015-02-04 17:51:59</td>\n",
       "      <td>23.15</td>\n",
       "      <td>27.2675</td>\n",
       "      <td>429.5</td>\n",
       "      <td>714.000000</td>\n",
       "      <td>0.004783</td>\n",
       "      <td>1</td>\n",
       "    </tr>\n",
       "    <tr>\n",
       "      <th>3</th>\n",
       "      <td>2015-02-04 17:53:00</td>\n",
       "      <td>23.15</td>\n",
       "      <td>27.2450</td>\n",
       "      <td>426.0</td>\n",
       "      <td>713.500000</td>\n",
       "      <td>0.004779</td>\n",
       "      <td>1</td>\n",
       "    </tr>\n",
       "    <tr>\n",
       "      <th>4</th>\n",
       "      <td>2015-02-04 17:54:00</td>\n",
       "      <td>23.15</td>\n",
       "      <td>27.2000</td>\n",
       "      <td>426.0</td>\n",
       "      <td>708.250000</td>\n",
       "      <td>0.004772</td>\n",
       "      <td>1</td>\n",
       "    </tr>\n",
       "    <tr>\n",
       "      <th>5</th>\n",
       "      <td>2015-02-04 17:55:00</td>\n",
       "      <td>23.10</td>\n",
       "      <td>27.2000</td>\n",
       "      <td>426.0</td>\n",
       "      <td>704.500000</td>\n",
       "      <td>0.004757</td>\n",
       "      <td>1</td>\n",
       "    </tr>\n",
       "    <tr>\n",
       "      <th>...</th>\n",
       "      <td>...</td>\n",
       "      <td>...</td>\n",
       "      <td>...</td>\n",
       "      <td>...</td>\n",
       "      <td>...</td>\n",
       "      <td>...</td>\n",
       "      <td>...</td>\n",
       "    </tr>\n",
       "    <tr>\n",
       "      <th>8139</th>\n",
       "      <td>2015-02-10 09:29:00</td>\n",
       "      <td>21.05</td>\n",
       "      <td>36.0975</td>\n",
       "      <td>433.0</td>\n",
       "      <td>787.250000</td>\n",
       "      <td>0.005579</td>\n",
       "      <td>1</td>\n",
       "    </tr>\n",
       "    <tr>\n",
       "      <th>8140</th>\n",
       "      <td>2015-02-10 09:29:59</td>\n",
       "      <td>21.05</td>\n",
       "      <td>35.9950</td>\n",
       "      <td>433.0</td>\n",
       "      <td>789.500000</td>\n",
       "      <td>0.005563</td>\n",
       "      <td>1</td>\n",
       "    </tr>\n",
       "    <tr>\n",
       "      <th>8141</th>\n",
       "      <td>2015-02-10 09:30:59</td>\n",
       "      <td>21.10</td>\n",
       "      <td>36.0950</td>\n",
       "      <td>433.0</td>\n",
       "      <td>798.500000</td>\n",
       "      <td>0.005596</td>\n",
       "      <td>1</td>\n",
       "    </tr>\n",
       "    <tr>\n",
       "      <th>8142</th>\n",
       "      <td>2015-02-10 09:32:00</td>\n",
       "      <td>21.10</td>\n",
       "      <td>36.2600</td>\n",
       "      <td>433.0</td>\n",
       "      <td>820.333333</td>\n",
       "      <td>0.005621</td>\n",
       "      <td>1</td>\n",
       "    </tr>\n",
       "    <tr>\n",
       "      <th>8143</th>\n",
       "      <td>2015-02-10 09:33:00</td>\n",
       "      <td>21.10</td>\n",
       "      <td>36.2000</td>\n",
       "      <td>447.0</td>\n",
       "      <td>821.000000</td>\n",
       "      <td>0.005612</td>\n",
       "      <td>1</td>\n",
       "    </tr>\n",
       "  </tbody>\n",
       "</table>\n",
       "<p>8143 rows × 7 columns</p>\n",
       "</div>"
      ],
      "text/plain": [
       "                     date  Temperature  Humidity  Light         CO2  \\\n",
       "1     2015-02-04 17:51:00        23.18   27.2720  426.0  721.250000   \n",
       "2     2015-02-04 17:51:59        23.15   27.2675  429.5  714.000000   \n",
       "3     2015-02-04 17:53:00        23.15   27.2450  426.0  713.500000   \n",
       "4     2015-02-04 17:54:00        23.15   27.2000  426.0  708.250000   \n",
       "5     2015-02-04 17:55:00        23.10   27.2000  426.0  704.500000   \n",
       "...                   ...          ...       ...    ...         ...   \n",
       "8139  2015-02-10 09:29:00        21.05   36.0975  433.0  787.250000   \n",
       "8140  2015-02-10 09:29:59        21.05   35.9950  433.0  789.500000   \n",
       "8141  2015-02-10 09:30:59        21.10   36.0950  433.0  798.500000   \n",
       "8142  2015-02-10 09:32:00        21.10   36.2600  433.0  820.333333   \n",
       "8143  2015-02-10 09:33:00        21.10   36.2000  447.0  821.000000   \n",
       "\n",
       "      HumidityRatio  Occupancy  \n",
       "1          0.004793          1  \n",
       "2          0.004783          1  \n",
       "3          0.004779          1  \n",
       "4          0.004772          1  \n",
       "5          0.004757          1  \n",
       "...             ...        ...  \n",
       "8139       0.005579          1  \n",
       "8140       0.005563          1  \n",
       "8141       0.005596          1  \n",
       "8142       0.005621          1  \n",
       "8143       0.005612          1  \n",
       "\n",
       "[8143 rows x 7 columns]"
      ]
     },
     "execution_count": 2,
     "metadata": {},
     "output_type": "execute_result"
    }
   ],
   "source": [
    "datatr = pd.read_csv('datatraining.txt')\n",
    "datatr"
   ]
  },
  {
   "cell_type": "code",
   "execution_count": 3,
   "id": "f51e4a24-9481-4387-a561-985af9c0b74d",
   "metadata": {},
   "outputs": [
    {
     "data": {
      "text/plain": [
       "8143"
      ]
     },
     "execution_count": 3,
     "metadata": {},
     "output_type": "execute_result"
    }
   ],
   "source": [
    "datatr.shape[0]"
   ]
  },
  {
   "cell_type": "code",
   "execution_count": 4,
   "id": "a15ee236-5a0a-4677-86ef-41803af17bed",
   "metadata": {},
   "outputs": [],
   "source": [
    "datatr.drop_duplicates(keep = 'first', inplace=True)"
   ]
  },
  {
   "cell_type": "code",
   "execution_count": 5,
   "id": "fe0eed25-068d-417f-be85-732b6e999b6a",
   "metadata": {},
   "outputs": [
    {
     "data": {
      "text/plain": [
       "8143"
      ]
     },
     "execution_count": 5,
     "metadata": {},
     "output_type": "execute_result"
    }
   ],
   "source": [
    "datatr.shape[0]"
   ]
  },
  {
   "cell_type": "code",
   "execution_count": 6,
   "id": "903e8eb4-7ba3-4952-b1cf-ccd5cee18fcf",
   "metadata": {},
   "outputs": [
    {
     "data": {
      "text/plain": [
       "<AxesSubplot:>"
      ]
     },
     "execution_count": 6,
     "metadata": {},
     "output_type": "execute_result"
    },
    {
     "data": {
      "image/png": "[encoded data removed]",
      "text/plain": [
       "<Figure size 432x288 with 1 Axes>"
      ]
     },
     "metadata": {
      "needs_background": "light"
     },
     "output_type": "display_data"
    }
   ],
   "source": [
    "datatr.Occupancy.hist(bins = 40)"
   ]
  },
  {
   "cell_type": "code",
   "execution_count": 7,
   "id": "2da65818-7dc5-4383-b3eb-8ab08095f56d",
   "metadata": {},
   "outputs": [
    {
     "data": {
      "text/plain": [
       "0    6414\n",
       "1    1729\n",
       "Name: Occupancy, dtype: int64"
      ]
     },
     "execution_count": 7,
     "metadata": {},
     "output_type": "execute_result"
    }
   ],
   "source": [
    "datatr['Occupancy'].value_counts()"
   ]
  },
  {
   "cell_type": "code",
   "execution_count": 8,
   "id": "eb533526-2c5b-48c3-832d-8a9aff5a066c",
   "metadata": {},
   "outputs": [
    {
     "data": {
      "text/plain": [
       "(array([1, 2, 3, 4, 5, 6]),\n",
       " [Text(1, 0, 'Temperature'),\n",
       "  Text(2, 0, 'Humidity'),\n",
       "  Text(3, 0, 'Light'),\n",
       "  Text(4, 0, 'CO2'),\n",
       "  Text(5, 0, 'HumidityRatio'),\n",
       "  Text(6, 0, 'Occupancy')])"
      ]
     },
     "execution_count": 8,
     "metadata": {},
     "output_type": "execute_result"
    },
    {
     "data": {
      "image/png": "[encoded data removed]",
      "text/plain": [
       "<Figure size 432x288 with 1 Axes>"
      ]
     },
     "metadata": {
      "needs_background": "light"
     },
     "output_type": "display_data"
    }
   ],
   "source": [
    "datatr.boxplot()\n",
    "plt.xticks(rotation = 90)"
   ]
  },
  {
   "cell_type": "code",
   "execution_count": 9,
   "id": "999f0076-0a06-4e7e-8174-9df1a6c1b209",
   "metadata": {},
   "outputs": [],
   "source": [
    "datatr['Temperature'] = preproc.minmax_scale(datatr[['Temperature']])\n",
    "datatr['Humidity'] = preproc.minmax_scale(datatr[['Humidity']])\n",
    "datatr['Light'] = preproc.minmax_scale(datatr[['Light']])\n",
    "datatr['CO2'] = preproc.minmax_scale(datatr[['CO2']])\n",
    "datatr['HumidityRatio'] = preproc.minmax_scale(datatr[['HumidityRatio']])\n",
    "datatr['Occupancy'] = preproc.minmax_scale(datatr[['Occupancy']])"
   ]
  },
  {
   "cell_type": "code",
   "execution_count": 10,
   "id": "c67bbd4d-623b-4f7d-afe8-94ed5a960bc0",
   "metadata": {},
   "outputs": [
    {
     "data": {
      "text/plain": [
       "(array([1, 2, 3, 4, 5, 6]),\n",
       " [Text(1, 0, 'Temperature'),\n",
       "  Text(2, 0, 'Humidity'),\n",
       "  Text(3, 0, 'Light'),\n",
       "  Text(4, 0, 'CO2'),\n",
       "  Text(5, 0, 'HumidityRatio'),\n",
       "  Text(6, 0, 'Occupancy')])"
      ]
     },
     "execution_count": 10,
     "metadata": {},
     "output_type": "execute_result"
    },
    {
     "data": {
      "image/png": "[encoded data removed]",
      "text/plain": [
       "<Figure size 432x288 with 1 Axes>"
      ]
     },
     "metadata": {
      "needs_background": "light"
     },
     "output_type": "display_data"
    }
   ],
   "source": [
    "datatr.boxplot()\n",
    "plt.xticks(rotation = 90)"
   ]
  },
  {
   "cell_type": "code",
   "execution_count": 11,
   "id": "9a0a98ce-ded7-4d72-8625-a8b816f5f618",
   "metadata": {},
   "outputs": [
    {
     "data": {
      "text/plain": [
       "date             8143\n",
       "Temperature       265\n",
       "Humidity         1325\n",
       "Light             889\n",
       "CO2              2282\n",
       "HumidityRatio    3582\n",
       "Occupancy           2\n",
       "dtype: int64"
      ]
     },
     "execution_count": 11,
     "metadata": {},
     "output_type": "execute_result"
    }
   ],
   "source": [
    "datatr.nunique()  #уникальные значения по оси столбца"
   ]
  },
  {
   "cell_type": "code",
   "execution_count": 12,
   "id": "986a78e1-28a9-4784-9d80-ff8d69db7e2e",
   "metadata": {},
   "outputs": [
    {
     "data": {
      "text/plain": [
       "date              object\n",
       "Temperature      float64\n",
       "Humidity         float64\n",
       "Light            float64\n",
       "CO2              float64\n",
       "HumidityRatio    float64\n",
       "Occupancy        float64\n",
       "dtype: object"
      ]
     },
     "execution_count": 12,
     "metadata": {},
     "output_type": "execute_result"
    }
   ],
   "source": [
    "datatr.dtypes"
   ]
  },
  {
   "cell_type": "code",
   "execution_count": 13,
   "id": "7dc71ec2-9801-4367-baea-06ef52675d2e",
   "metadata": {},
   "outputs": [],
   "source": [
    "datatr[\"Temperature\"]=datatr[\"Temperature\"].astype('category')"
   ]
  },
  {
   "cell_type": "code",
   "execution_count": 14,
   "id": "81494e22-3472-4507-9793-d469c650b4a6",
   "metadata": {},
   "outputs": [
    {
     "data": {
      "text/html": [
       "<div>\n",
       "<style scoped>\n",
       "    .dataframe tbody tr th:only-of-type {\n",
       "        vertical-align: middle;\n",
       "    }\n",
       "\n",
       "    .dataframe tbody tr th {\n",
       "        vertical-align: top;\n",
       "    }\n",
       "\n",
       "    .dataframe thead th {\n",
       "        text-align: right;\n",
       "    }\n",
       "</style>\n",
       "<table border=\"1\" class=\"dataframe\">\n",
       "  <thead>\n",
       "    <tr style=\"text-align: right;\">\n",
       "      <th></th>\n",
       "      <th>date</th>\n",
       "      <th>Temperature</th>\n",
       "      <th>Humidity</th>\n",
       "      <th>Light</th>\n",
       "      <th>CO2</th>\n",
       "      <th>HumidityRatio</th>\n",
       "      <th>Occupancy</th>\n",
       "    </tr>\n",
       "  </thead>\n",
       "  <tbody>\n",
       "    <tr>\n",
       "      <th>1</th>\n",
       "      <td>264</td>\n",
       "      <td>1.000000</td>\n",
       "      <td>0.470533</td>\n",
       "      <td>0.275490</td>\n",
       "      <td>0.190933</td>\n",
       "      <td>0.557318</td>\n",
       "      <td>1.0</td>\n",
       "    </tr>\n",
       "    <tr>\n",
       "      <th>2</th>\n",
       "      <td>263</td>\n",
       "      <td>0.992823</td>\n",
       "      <td>0.470332</td>\n",
       "      <td>0.277754</td>\n",
       "      <td>0.186446</td>\n",
       "      <td>0.554807</td>\n",
       "      <td>1.0</td>\n",
       "    </tr>\n",
       "    <tr>\n",
       "      <th>3</th>\n",
       "      <td>263</td>\n",
       "      <td>0.992823</td>\n",
       "      <td>0.469326</td>\n",
       "      <td>0.275490</td>\n",
       "      <td>0.186136</td>\n",
       "      <td>0.553761</td>\n",
       "      <td>1.0</td>\n",
       "    </tr>\n",
       "    <tr>\n",
       "      <th>4</th>\n",
       "      <td>263</td>\n",
       "      <td>0.992823</td>\n",
       "      <td>0.467315</td>\n",
       "      <td>0.275490</td>\n",
       "      <td>0.182887</td>\n",
       "      <td>0.551669</td>\n",
       "      <td>1.0</td>\n",
       "    </tr>\n",
       "    <tr>\n",
       "      <th>5</th>\n",
       "      <td>262</td>\n",
       "      <td>0.980861</td>\n",
       "      <td>0.467315</td>\n",
       "      <td>0.275490</td>\n",
       "      <td>0.180566</td>\n",
       "      <td>0.547851</td>\n",
       "      <td>1.0</td>\n",
       "    </tr>\n",
       "    <tr>\n",
       "      <th>...</th>\n",
       "      <td>...</td>\n",
       "      <td>...</td>\n",
       "      <td>...</td>\n",
       "      <td>...</td>\n",
       "      <td>...</td>\n",
       "      <td>...</td>\n",
       "      <td>...</td>\n",
       "    </tr>\n",
       "    <tr>\n",
       "      <th>8139</th>\n",
       "      <td>129</td>\n",
       "      <td>0.490431</td>\n",
       "      <td>0.865013</td>\n",
       "      <td>0.280017</td>\n",
       "      <td>0.231781</td>\n",
       "      <td>0.763986</td>\n",
       "      <td>1.0</td>\n",
       "    </tr>\n",
       "    <tr>\n",
       "      <th>8140</th>\n",
       "      <td>129</td>\n",
       "      <td>0.490431</td>\n",
       "      <td>0.860431</td>\n",
       "      <td>0.280017</td>\n",
       "      <td>0.233173</td>\n",
       "      <td>0.759782</td>\n",
       "      <td>1.0</td>\n",
       "    </tr>\n",
       "    <tr>\n",
       "      <th>8141</th>\n",
       "      <td>132</td>\n",
       "      <td>0.502392</td>\n",
       "      <td>0.864901</td>\n",
       "      <td>0.280017</td>\n",
       "      <td>0.238744</td>\n",
       "      <td>0.768438</td>\n",
       "      <td>1.0</td>\n",
       "    </tr>\n",
       "    <tr>\n",
       "      <th>8142</th>\n",
       "      <td>132</td>\n",
       "      <td>0.502392</td>\n",
       "      <td>0.872276</td>\n",
       "      <td>0.280017</td>\n",
       "      <td>0.252256</td>\n",
       "      <td>0.775226</td>\n",
       "      <td>1.0</td>\n",
       "    </tr>\n",
       "    <tr>\n",
       "      <th>8143</th>\n",
       "      <td>132</td>\n",
       "      <td>0.502392</td>\n",
       "      <td>0.869594</td>\n",
       "      <td>0.289071</td>\n",
       "      <td>0.252669</td>\n",
       "      <td>0.772758</td>\n",
       "      <td>1.0</td>\n",
       "    </tr>\n",
       "  </tbody>\n",
       "</table>\n",
       "<p>8143 rows × 7 columns</p>\n",
       "</div>"
      ],
      "text/plain": [
       "      date Temperature  Humidity     Light       CO2  HumidityRatio  Occupancy\n",
       "1      264    1.000000  0.470533  0.275490  0.190933       0.557318        1.0\n",
       "2      263    0.992823  0.470332  0.277754  0.186446       0.554807        1.0\n",
       "3      263    0.992823  0.469326  0.275490  0.186136       0.553761        1.0\n",
       "4      263    0.992823  0.467315  0.275490  0.182887       0.551669        1.0\n",
       "5      262    0.980861  0.467315  0.275490  0.180566       0.547851        1.0\n",
       "...    ...         ...       ...       ...       ...            ...        ...\n",
       "8139   129    0.490431  0.865013  0.280017  0.231781       0.763986        1.0\n",
       "8140   129    0.490431  0.860431  0.280017  0.233173       0.759782        1.0\n",
       "8141   132    0.502392  0.864901  0.280017  0.238744       0.768438        1.0\n",
       "8142   132    0.502392  0.872276  0.280017  0.252256       0.775226        1.0\n",
       "8143   132    0.502392  0.869594  0.289071  0.252669       0.772758        1.0\n",
       "\n",
       "[8143 rows x 7 columns]"
      ]
     },
     "execution_count": 14,
     "metadata": {},
     "output_type": "execute_result"
    }
   ],
   "source": [
    "datatr[\"date\"]=datatr[\"Temperature\"].cat.codes\n",
    "datatr"
   ]
  },
  {
   "cell_type": "code",
   "execution_count": 15,
   "id": "1f57e7ed-c052-41c6-a5c1-ee23a83cb37b",
   "metadata": {},
   "outputs": [],
   "source": [
    "datatr[\"Temperature\"]=datatr[\"Temperature\"].astype('float64')"
   ]
  },
  {
   "cell_type": "code",
   "execution_count": 16,
   "id": "e39caa9f-a409-4dfe-8d2f-5e03bbcdab2a",
   "metadata": {},
   "outputs": [
    {
     "data": {
      "text/plain": [
       "<AxesSubplot:>"
      ]
     },
     "execution_count": 16,
     "metadata": {},
     "output_type": "execute_result"
    },
    {
     "data": {
      "image/png": "[encoded data removed]",
      "text/plain": [
       "<Figure size 432x288 with 2 Axes>"
      ]
     },
     "metadata": {
      "needs_background": "light"
     },
     "output_type": "display_data"
    }
   ],
   "source": [
    "sns.heatmap(datatr.corr(), annot = True)"
   ]
  },
  {
   "cell_type": "code",
   "execution_count": 17,
   "id": "a8a837d7-28ad-4ede-8768-61d830e83207",
   "metadata": {},
   "outputs": [
    {
     "name": "stdout",
     "output_type": "stream",
     "text": [
      "<class 'pandas.core.frame.DataFrame'>\n",
      "Int64Index: 8143 entries, 1 to 8143\n",
      "Data columns (total 7 columns):\n",
      " #   Column         Non-Null Count  Dtype  \n",
      "---  ------         --------------  -----  \n",
      " 0   date           8143 non-null   int16  \n",
      " 1   Temperature    8143 non-null   float64\n",
      " 2   Humidity       8143 non-null   float64\n",
      " 3   Light          8143 non-null   float64\n",
      " 4   CO2            8143 non-null   float64\n",
      " 5   HumidityRatio  8143 non-null   float64\n",
      " 6   Occupancy      8143 non-null   float64\n",
      "dtypes: float64(6), int16(1)\n",
      "memory usage: 461.2 KB\n"
     ]
    }
   ],
   "source": [
    "datatr.info()"
   ]
  },
  {
   "cell_type": "code",
   "execution_count": 18,
   "id": "43fec8ce-a28c-44bd-aa05-eab5dab0880b",
   "metadata": {},
   "outputs": [
    {
     "data": {
      "text/plain": [
       "(8143, 7)"
      ]
     },
     "execution_count": 18,
     "metadata": {},
     "output_type": "execute_result"
    }
   ],
   "source": [
    "datatr.shape"
   ]
  },
  {
   "cell_type": "code",
   "execution_count": 19,
   "id": "71e87818-1516-4a79-84d9-89c51315f8f8",
   "metadata": {},
   "outputs": [
    {
     "data": {
      "text/plain": [
       "date             8143\n",
       "Temperature      8143\n",
       "Humidity         8143\n",
       "Light            8143\n",
       "CO2              8143\n",
       "HumidityRatio    8143\n",
       "Occupancy        8143\n",
       "dtype: int64"
      ]
     },
     "execution_count": 19,
     "metadata": {},
     "output_type": "execute_result"
    }
   ],
   "source": [
    "datatr.count()"
   ]
  },
  {
   "cell_type": "code",
   "execution_count": 26,
   "id": "91ee2159-7118-4a65-8f60-cf740466c256",
   "metadata": {},
   "outputs": [
    {
     "name": "stdout",
     "output_type": "stream",
     "text": [
      "      date  Temperature  Humidity     Light       CO2  HumidityRatio\n",
      "1      264     1.000000  0.470533  0.275490  0.190933       0.557318\n",
      "2      263     0.992823  0.470332  0.277754  0.186446       0.554807\n",
      "3      263     0.992823  0.469326  0.275490  0.186136       0.553761\n",
      "4      263     0.992823  0.467315  0.275490  0.182887       0.551669\n",
      "5      262     0.980861  0.467315  0.275490  0.180566       0.547851\n",
      "...    ...          ...       ...       ...       ...            ...\n",
      "8139   129     0.490431  0.865013  0.280017  0.231781       0.763986\n",
      "8140   129     0.490431  0.860431  0.280017  0.233173       0.759782\n",
      "8141   132     0.502392  0.864901  0.280017  0.238744       0.768438\n",
      "8142   132     0.502392  0.872276  0.280017  0.252256       0.775226\n",
      "8143   132     0.502392  0.869594  0.289071  0.252669       0.772758\n",
      "\n",
      "[8143 rows x 6 columns]\n"
     ]
    }
   ],
   "source": [
    "x = datatr.drop(['Occupancy'], axis=1)\n",
    "y = datatr['Occupancy']\n",
    "print(x)"
   ]
  },
  {
   "cell_type": "code",
   "execution_count": 21,
   "id": "d48ec0db-e95c-49f9-bab0-45144dd7ee1e",
   "metadata": {},
   "outputs": [],
   "source": [
    "from sklearn.model_selection import train_test_split #для разделения датасетов \n",
    "x_train, x_test, y_train, y_test = train_test_split(x, y, test_size = 0.3) #наборы обучиить/протестировать"
   ]
  },
  {
   "cell_type": "code",
   "execution_count": 22,
   "id": "1c72fe0f-0c8c-48b9-9b83-9fd74215b843",
   "metadata": {},
   "outputs": [
    {
     "name": "stdout",
     "output_type": "stream",
     "text": [
      "Accuracy of KNN model: 0.9778960294719607\n",
      "Best accuracy: 0.9663157894736841\n"
     ]
    }
   ],
   "source": [
    "from sklearn.neighbors import KNeighborsClassifier\n",
    "from sklearn.model_selection import GridSearchCV\n",
    "from sklearn.metrics import accuracy_score \n",
    "\n",
    "KNN = KNeighborsClassifier()#классификатор к сосоедей\n",
    "\n",
    "search = GridSearchCV(KNN, {'n_neighbors': range (1,55)})#ищем подходящие параметры кол- во соседей выбираем соседей для точной классификации \n",
    "search.fit(x_train, y_train)#заносим x и y чтобы максимально совпадали\n",
    "\n",
    "n = search.best_estimator_.n_neighbors#наилучший результат кол - ва соседей\n",
    "\n",
    "KNN = KNeighborsClassifier(n_neighbors = n)#в классификатор заносим кол-во соседей\n",
    "KNN.fit(x_train, y_train)#заносим обучающую выборку\n",
    "print(\"Accuracy of KNN model:\", accuracy_score(y_test, KNN.predict(x_test)))\n",
    "print('Best accuracy:', search.best_score_)"
   ]
  },
  {
   "cell_type": "code",
   "execution_count": 23,
   "id": "7aff8de3-c92b-4c07-8210-5bfe4918df92",
   "metadata": {},
   "outputs": [
    {
     "name": "stdout",
     "output_type": "stream",
     "text": [
      "Accuracy of DTC model: 0.9938600081866558\n",
      "Best accuracy: 0.992280701754386\n"
     ]
    }
   ],
   "source": [
    "from sklearn.tree import DecisionTreeClassifier\n",
    "\n",
    "DTC = DecisionTreeClassifier() # классификатор дерева ршений\n",
    "\n",
    "DTC_grid = GridSearchCV(DTC, {'max_depth': list(range(1, 6)), 'max_features': list(range(1, 6))})\n",
    "DTC_grid.fit (x_train, y_train)\n",
    "\n",
    "best_depth = DTC_grid.best_estimator_.max_depth # Находим лучшую глубину\n",
    "best_features = DTC_grid.best_estimator_.max_features # Находим лучшее количество признаков, которые следует учитывать при поиске\n",
    "\n",
    "DTC = DecisionTreeClassifier(max_depth=best_depth, max_features=best_features)\n",
    "DTC.fit(x_train, y_train)\n",
    "\n",
    "accuracy_score = np.mean(y_test == DTC.predict(x_test))\n",
    "print(\"Accuracy of DTC model:\",  accuracy_score)\n",
    "print(\"Best accuracy:\", DTC_grid.best_score_)"
   ]
  },
  {
   "cell_type": "code",
   "execution_count": 24,
   "id": "34376287-118b-4d80-aedc-7bb622e25f0a",
   "metadata": {},
   "outputs": [
    {
     "name": "stderr",
     "output_type": "stream",
     "text": [
      "D:\\puthon\\WPy64-39100\\python-3.9.10.amd64\\lib\\site-packages\\sklearn\\utils\\deprecation.py:87: FutureWarning: Function plot_precision_recall_curve is deprecated; Function `plot_precision_recall_curve` is deprecated in 1.0 and will be removed in 1.2. Use one of the class methods: PrecisionRecallDisplay.from_predictions or PrecisionRecallDisplay.from_estimator.\n",
      "  warnings.warn(msg, category=FutureWarning)\n",
      "D:\\puthon\\WPy64-39100\\python-3.9.10.amd64\\lib\\site-packages\\sklearn\\utils\\deprecation.py:87: FutureWarning: Function plot_precision_recall_curve is deprecated; Function `plot_precision_recall_curve` is deprecated in 1.0 and will be removed in 1.2. Use one of the class methods: PrecisionRecallDisplay.from_predictions or PrecisionRecallDisplay.from_estimator.\n",
      "  warnings.warn(msg, category=FutureWarning)\n"
     ]
    },
    {
     "data": {
      "image/png": "[encoded data removed]",
      "text/plain": [
       "<Figure size 432x288 with 1 Axes>"
      ]
     },
     "metadata": {
      "needs_background": "light"
     },
     "output_type": "display_data"
    }
   ],
   "source": [
    "#полнота и точность\n",
    "from sklearn.metrics import plot_precision_recall_curve\n",
    "i = plot_precision_recall_curve(KNN, x_test, y_test)\n",
    "g = plot_precision_recall_curve(DTC, x_test, y_test, ax=i.ax_)"
   ]
  },
  {
   "cell_type": "code",
   "execution_count": 25,
   "id": "5a3dbf7e-96b1-47b6-a243-19f490f87467",
   "metadata": {},
   "outputs": [
    {
     "name": "stderr",
     "output_type": "stream",
     "text": [
      "D:\\puthon\\WPy64-39100\\python-3.9.10.amd64\\lib\\site-packages\\sklearn\\utils\\deprecation.py:87: FutureWarning: Function plot_roc_curve is deprecated; Function :func:`plot_roc_curve` is deprecated in 1.0 and will be removed in 1.2. Use one of the class methods: :meth:`sklearn.metric.RocCurveDisplay.from_predictions` or :meth:`sklearn.metric.RocCurveDisplay.from_estimator`.\n",
      "  warnings.warn(msg, category=FutureWarning)\n",
      "D:\\puthon\\WPy64-39100\\python-3.9.10.amd64\\lib\\site-packages\\sklearn\\utils\\deprecation.py:87: FutureWarning: Function plot_roc_curve is deprecated; Function :func:`plot_roc_curve` is deprecated in 1.0 and will be removed in 1.2. Use one of the class methods: :meth:`sklearn.metric.RocCurveDisplay.from_predictions` or :meth:`sklearn.metric.RocCurveDisplay.from_estimator`.\n",
      "  warnings.warn(msg, category=FutureWarning)\n"
     ]
    },
    {
     "data": {
      "image/png": "[encoded data removed]",
      "text/plain": [
       "<Figure size 432x288 with 1 Axes>"
      ]
     },
     "metadata": {
      "needs_background": "light"
     },
     "output_type": "display_data"
    }
   ],
   "source": [
    "#доля правильных и доля неправильных\n",
    "from sklearn.metrics import plot_roc_curve\n",
    "i = plot_roc_curve(KNN, x_test, y_test)\n",
    "g = plot_roc_curve(DTC, x_test, y_test, ax = i.ax_)"
   ]
  },
  {
   "cell_type": "code",
   "execution_count": null,
   "id": "777880ad-6a78-4445-b339-c62a7fbe845d",
   "metadata": {},
   "outputs": [],
   "source": []
  }
 ],
 "metadata": {
  "kernelspec": {
   "display_name": "Python 3 (ipykernel)",
   "language": "python",
   "name": "python3"
  },
  "language_info": {
   "codemirror_mode": {
    "name": "ipython",
    "version": 3
   },
   "file_extension": ".py",
   "mimetype": "text/x-python",
   "name": "python",
   "nbconvert_exporter": "python",
   "pygments_lexer": "ipython3",
   "version": "3.9.10"
  }
 },
 "nbformat": 4,
 "nbformat_minor": 5
}
