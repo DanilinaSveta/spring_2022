{
 "cells": [
  {
   "cell_type": "code",
   "execution_count": 1,
   "id": "30766a04-72bc-4157-a64b-f4a5b2efdaf7",
   "metadata": {},
   "outputs": [],
   "source": [
    "import pandas as pd\n",
    "import numpy as np\n",
    "import matplotlib.pyplot as plt\n",
    "import sklearn.preprocessing as preproc\n",
    "import seaborn as sns"
   ]
  },
  {
   "cell_type": "code",
   "execution_count": 2,
   "id": "de976878-b030-45be-af62-cc60d17933a4",
   "metadata": {},
   "outputs": [
    {
     "data": {
      "text/html": [
       "<div>\n",
       "<style scoped>\n",
       "    .dataframe tbody tr th:only-of-type {\n",
       "        vertical-align: middle;\n",
       "    }\n",
       "\n",
       "    .dataframe tbody tr th {\n",
       "        vertical-align: top;\n",
       "    }\n",
       "\n",
       "    .dataframe thead th {\n",
       "        text-align: right;\n",
       "    }\n",
       "</style>\n",
       "<table border=\"1\" class=\"dataframe\">\n",
       "  <thead>\n",
       "    <tr style=\"text-align: right;\">\n",
       "      <th></th>\n",
       "      <th>mpg</th>\n",
       "      <th>cylinders</th>\n",
       "      <th>displacement</th>\n",
       "      <th>horsepower</th>\n",
       "      <th>weight</th>\n",
       "      <th>acceleration</th>\n",
       "      <th>model_year</th>\n",
       "      <th>origin</th>\n",
       "      <th>car_name</th>\n",
       "    </tr>\n",
       "  </thead>\n",
       "  <tbody>\n",
       "    <tr>\n",
       "      <th>0</th>\n",
       "      <td>18.0</td>\n",
       "      <td>8.0</td>\n",
       "      <td>307.0</td>\n",
       "      <td>130.0</td>\n",
       "      <td>3504.0</td>\n",
       "      <td>12.0</td>\n",
       "      <td>70.0</td>\n",
       "      <td>1.0</td>\n",
       "      <td>chevrolet chevelle malibu</td>\n",
       "    </tr>\n",
       "    <tr>\n",
       "      <th>1</th>\n",
       "      <td>15.0</td>\n",
       "      <td>8.0</td>\n",
       "      <td>350.0</td>\n",
       "      <td>165.0</td>\n",
       "      <td>3693.0</td>\n",
       "      <td>11.5</td>\n",
       "      <td>70.0</td>\n",
       "      <td>1.0</td>\n",
       "      <td>buick skylark 320</td>\n",
       "    </tr>\n",
       "    <tr>\n",
       "      <th>2</th>\n",
       "      <td>18.0</td>\n",
       "      <td>8.0</td>\n",
       "      <td>318.0</td>\n",
       "      <td>150.0</td>\n",
       "      <td>3436.0</td>\n",
       "      <td>11.0</td>\n",
       "      <td>70.0</td>\n",
       "      <td>1.0</td>\n",
       "      <td>plymouth satellite</td>\n",
       "    </tr>\n",
       "    <tr>\n",
       "      <th>3</th>\n",
       "      <td>16.0</td>\n",
       "      <td>8.0</td>\n",
       "      <td>304.0</td>\n",
       "      <td>150.0</td>\n",
       "      <td>3433.0</td>\n",
       "      <td>12.0</td>\n",
       "      <td>70.0</td>\n",
       "      <td>1.0</td>\n",
       "      <td>amc rebel sst</td>\n",
       "    </tr>\n",
       "    <tr>\n",
       "      <th>4</th>\n",
       "      <td>17.0</td>\n",
       "      <td>8.0</td>\n",
       "      <td>302.0</td>\n",
       "      <td>140.0</td>\n",
       "      <td>3449.0</td>\n",
       "      <td>10.5</td>\n",
       "      <td>70.0</td>\n",
       "      <td>1.0</td>\n",
       "      <td>ford torino</td>\n",
       "    </tr>\n",
       "    <tr>\n",
       "      <th>...</th>\n",
       "      <td>...</td>\n",
       "      <td>...</td>\n",
       "      <td>...</td>\n",
       "      <td>...</td>\n",
       "      <td>...</td>\n",
       "      <td>...</td>\n",
       "      <td>...</td>\n",
       "      <td>...</td>\n",
       "      <td>...</td>\n",
       "    </tr>\n",
       "    <tr>\n",
       "      <th>401</th>\n",
       "      <td>27.0</td>\n",
       "      <td>4.0</td>\n",
       "      <td>140.0</td>\n",
       "      <td>86.0</td>\n",
       "      <td>2790.0</td>\n",
       "      <td>15.6</td>\n",
       "      <td>82.0</td>\n",
       "      <td>1.0</td>\n",
       "      <td>ford mustang gl</td>\n",
       "    </tr>\n",
       "    <tr>\n",
       "      <th>402</th>\n",
       "      <td>44.0</td>\n",
       "      <td>4.0</td>\n",
       "      <td>97.0</td>\n",
       "      <td>52.0</td>\n",
       "      <td>2130.0</td>\n",
       "      <td>24.6</td>\n",
       "      <td>82.0</td>\n",
       "      <td>2.0</td>\n",
       "      <td>vw pickup</td>\n",
       "    </tr>\n",
       "    <tr>\n",
       "      <th>403</th>\n",
       "      <td>32.0</td>\n",
       "      <td>4.0</td>\n",
       "      <td>135.0</td>\n",
       "      <td>84.0</td>\n",
       "      <td>2295.0</td>\n",
       "      <td>11.6</td>\n",
       "      <td>82.0</td>\n",
       "      <td>1.0</td>\n",
       "      <td>dodge rampage</td>\n",
       "    </tr>\n",
       "    <tr>\n",
       "      <th>404</th>\n",
       "      <td>28.0</td>\n",
       "      <td>4.0</td>\n",
       "      <td>120.0</td>\n",
       "      <td>79.0</td>\n",
       "      <td>2625.0</td>\n",
       "      <td>18.6</td>\n",
       "      <td>82.0</td>\n",
       "      <td>1.0</td>\n",
       "      <td>ford ranger</td>\n",
       "    </tr>\n",
       "    <tr>\n",
       "      <th>405</th>\n",
       "      <td>31.0</td>\n",
       "      <td>4.0</td>\n",
       "      <td>119.0</td>\n",
       "      <td>82.0</td>\n",
       "      <td>2720.0</td>\n",
       "      <td>19.4</td>\n",
       "      <td>82.0</td>\n",
       "      <td>1.0</td>\n",
       "      <td>chevy s-10</td>\n",
       "    </tr>\n",
       "  </tbody>\n",
       "</table>\n",
       "<p>406 rows × 9 columns</p>\n",
       "</div>"
      ],
      "text/plain": [
       "      mpg  cylinders  displacement  horsepower  weight  acceleration  \\\n",
       "0    18.0        8.0         307.0       130.0  3504.0          12.0   \n",
       "1    15.0        8.0         350.0       165.0  3693.0          11.5   \n",
       "2    18.0        8.0         318.0       150.0  3436.0          11.0   \n",
       "3    16.0        8.0         304.0       150.0  3433.0          12.0   \n",
       "4    17.0        8.0         302.0       140.0  3449.0          10.5   \n",
       "..    ...        ...           ...         ...     ...           ...   \n",
       "401  27.0        4.0         140.0        86.0  2790.0          15.6   \n",
       "402  44.0        4.0          97.0        52.0  2130.0          24.6   \n",
       "403  32.0        4.0         135.0        84.0  2295.0          11.6   \n",
       "404  28.0        4.0         120.0        79.0  2625.0          18.6   \n",
       "405  31.0        4.0         119.0        82.0  2720.0          19.4   \n",
       "\n",
       "     model_year  origin                   car_name  \n",
       "0          70.0     1.0  chevrolet chevelle malibu  \n",
       "1          70.0     1.0          buick skylark 320  \n",
       "2          70.0     1.0         plymouth satellite  \n",
       "3          70.0     1.0              amc rebel sst  \n",
       "4          70.0     1.0                ford torino  \n",
       "..          ...     ...                        ...  \n",
       "401        82.0     1.0            ford mustang gl  \n",
       "402        82.0     2.0                  vw pickup  \n",
       "403        82.0     1.0              dodge rampage  \n",
       "404        82.0     1.0                ford ranger  \n",
       "405        82.0     1.0                 chevy s-10  \n",
       "\n",
       "[406 rows x 9 columns]"
      ]
     },
     "execution_count": 2,
     "metadata": {},
     "output_type": "execute_result"
    }
   ],
   "source": [
    "auto = pd.read_csv(\"auto-mpg.data-original.txt\", sep=\"\\s+\", names = [\"mpg\", \"cylinders\", \"displacement\", \"horsepower\", \"weight\", \n",
    "                                                                     \"acceleration\", \"model_year\", \"origin\", \"car_name\"])\n",
    "auto"
   ]
  },
  {
   "cell_type": "code",
   "execution_count": 3,
   "id": "1eeb6933-fcbe-4251-b766-8e2ab2cf8f86",
   "metadata": {},
   "outputs": [
    {
     "data": {
      "text/plain": [
       "406"
      ]
     },
     "execution_count": 3,
     "metadata": {},
     "output_type": "execute_result"
    }
   ],
   "source": [
    "auto.shape[0]"
   ]
  },
  {
   "cell_type": "code",
   "execution_count": 4,
   "id": "a9ba35f4-9603-4553-9d94-9d9e301c98bb",
   "metadata": {},
   "outputs": [],
   "source": [
    "auto.drop_duplicates(keep='first', inplace=True)"
   ]
  },
  {
   "cell_type": "code",
   "execution_count": 5,
   "id": "9162b729-6dee-4a30-8875-39146a366701",
   "metadata": {},
   "outputs": [
    {
     "data": {
      "text/plain": [
       "406"
      ]
     },
     "execution_count": 5,
     "metadata": {},
     "output_type": "execute_result"
    }
   ],
   "source": [
    "auto.shape[0]"
   ]
  },
  {
   "cell_type": "code",
   "execution_count": 6,
   "id": "35521834-c6b3-469e-a122-47ddfad32fb8",
   "metadata": {},
   "outputs": [],
   "source": [
    "auto.dropna(axis = 0, inplace = True)"
   ]
  },
  {
   "cell_type": "code",
   "execution_count": 7,
   "id": "e36db044-2beb-43b3-a3cd-9e69bb345868",
   "metadata": {},
   "outputs": [
    {
     "data": {
      "text/plain": [
       "(array([1, 2, 3, 4, 5, 6, 7, 8]),\n",
       " [Text(1, 0, 'mpg'),\n",
       "  Text(2, 0, 'cylinders'),\n",
       "  Text(3, 0, 'displacement'),\n",
       "  Text(4, 0, 'horsepower'),\n",
       "  Text(5, 0, 'weight'),\n",
       "  Text(6, 0, 'acceleration'),\n",
       "  Text(7, 0, 'model_year'),\n",
       "  Text(8, 0, 'origin')])"
      ]
     },
     "execution_count": 7,
     "metadata": {},
     "output_type": "execute_result"
    },
    {
     "data": {
      "image/png": "[encoded data removed]",
      "text/plain": [
       "<Figure size 432x288 with 1 Axes>"
      ]
     },
     "metadata": {
      "needs_background": "light"
     },
     "output_type": "display_data"
    }
   ],
   "source": [
    "auto.boxplot()\n",
    "plt.xticks(rotation = 90)"
   ]
  },
  {
   "cell_type": "code",
   "execution_count": 8,
   "id": "f10bb2a8-17a9-4321-8d4c-876d59f7f7f6",
   "metadata": {},
   "outputs": [],
   "source": [
    "auto['mpg'] = preproc.minmax_scale(auto[['mpg']])\n",
    "auto['cylinders'] = preproc.minmax_scale(auto[['cylinders']])\n",
    "auto['displacement'] = preproc.minmax_scale(auto[['displacement']])\n",
    "auto['horsepower'] = preproc.minmax_scale(auto[['horsepower']])\n",
    "auto['weight'] = preproc.minmax_scale(auto[['weight']])\n",
    "auto['acceleration'] = preproc.minmax_scale(auto[['acceleration']])\n",
    "auto['model_year'] = preproc.minmax_scale(auto[['model_year']])\n",
    "auto['origin'] = preproc.minmax_scale(auto[['origin']])"
   ]
  },
  {
   "cell_type": "code",
   "execution_count": 9,
   "id": "8aa734ae-430d-46e9-897b-e712ed6a40ea",
   "metadata": {},
   "outputs": [
    {
     "data": {
      "text/plain": [
       "(array([1, 2, 3, 4, 5, 6, 7, 8]),\n",
       " [Text(1, 0, 'mpg'),\n",
       "  Text(2, 0, 'cylinders'),\n",
       "  Text(3, 0, 'displacement'),\n",
       "  Text(4, 0, 'horsepower'),\n",
       "  Text(5, 0, 'weight'),\n",
       "  Text(6, 0, 'acceleration'),\n",
       "  Text(7, 0, 'model_year'),\n",
       "  Text(8, 0, 'origin')])"
      ]
     },
     "execution_count": 9,
     "metadata": {},
     "output_type": "execute_result"
    },
    {
     "data": {
      "image/png": "[encoded data removed]",
      "text/plain": [
       "<Figure size 432x288 with 1 Axes>"
      ]
     },
     "metadata": {
      "needs_background": "light"
     },
     "output_type": "display_data"
    }
   ],
   "source": [
    "auto.boxplot()\n",
    "plt.xticks(rotation = 90)"
   ]
  },
  {
   "cell_type": "code",
   "execution_count": 10,
   "id": "d2f49b32-87c6-4db6-a06a-df03740a2b64",
   "metadata": {
    "tags": []
   },
   "outputs": [
    {
     "data": {
      "text/plain": [
       "mpg             float64\n",
       "cylinders       float64\n",
       "displacement    float64\n",
       "horsepower      float64\n",
       "weight          float64\n",
       "acceleration    float64\n",
       "model_year      float64\n",
       "origin          float64\n",
       "car_name         object\n",
       "dtype: object"
      ]
     },
     "execution_count": 10,
     "metadata": {},
     "output_type": "execute_result"
    }
   ],
   "source": [
    "auto.dtypes"
   ]
  },
  {
   "cell_type": "code",
   "execution_count": 11,
   "id": "73ad51d2-11b4-42d3-8aaf-2cafb6bd286c",
   "metadata": {},
   "outputs": [],
   "source": [
    "auto[\"car_name\"]=auto[\"car_name\"].astype('category')"
   ]
  },
  {
   "cell_type": "code",
   "execution_count": 12,
   "id": "ac1d70e9-169b-46cb-baa0-87012bb48d72",
   "metadata": {},
   "outputs": [
    {
     "data": {
      "text/html": [
       "<div>\n",
       "<style scoped>\n",
       "    .dataframe tbody tr th:only-of-type {\n",
       "        vertical-align: middle;\n",
       "    }\n",
       "\n",
       "    .dataframe tbody tr th {\n",
       "        vertical-align: top;\n",
       "    }\n",
       "\n",
       "    .dataframe thead th {\n",
       "        text-align: right;\n",
       "    }\n",
       "</style>\n",
       "<table border=\"1\" class=\"dataframe\">\n",
       "  <thead>\n",
       "    <tr style=\"text-align: right;\">\n",
       "      <th></th>\n",
       "      <th>mpg</th>\n",
       "      <th>cylinders</th>\n",
       "      <th>displacement</th>\n",
       "      <th>horsepower</th>\n",
       "      <th>weight</th>\n",
       "      <th>acceleration</th>\n",
       "      <th>model_year</th>\n",
       "      <th>origin</th>\n",
       "      <th>car_name</th>\n",
       "    </tr>\n",
       "  </thead>\n",
       "  <tbody>\n",
       "    <tr>\n",
       "      <th>0</th>\n",
       "      <td>0.239362</td>\n",
       "      <td>1.0</td>\n",
       "      <td>0.617571</td>\n",
       "      <td>0.456522</td>\n",
       "      <td>0.536150</td>\n",
       "      <td>0.238095</td>\n",
       "      <td>0.0</td>\n",
       "      <td>0.0</td>\n",
       "      <td>48</td>\n",
       "    </tr>\n",
       "    <tr>\n",
       "      <th>1</th>\n",
       "      <td>0.159574</td>\n",
       "      <td>1.0</td>\n",
       "      <td>0.728682</td>\n",
       "      <td>0.646739</td>\n",
       "      <td>0.589736</td>\n",
       "      <td>0.208333</td>\n",
       "      <td>0.0</td>\n",
       "      <td>0.0</td>\n",
       "      <td>35</td>\n",
       "    </tr>\n",
       "    <tr>\n",
       "      <th>2</th>\n",
       "      <td>0.239362</td>\n",
       "      <td>1.0</td>\n",
       "      <td>0.645995</td>\n",
       "      <td>0.565217</td>\n",
       "      <td>0.516870</td>\n",
       "      <td>0.178571</td>\n",
       "      <td>0.0</td>\n",
       "      <td>0.0</td>\n",
       "      <td>229</td>\n",
       "    </tr>\n",
       "    <tr>\n",
       "      <th>3</th>\n",
       "      <td>0.186170</td>\n",
       "      <td>1.0</td>\n",
       "      <td>0.609819</td>\n",
       "      <td>0.565217</td>\n",
       "      <td>0.516019</td>\n",
       "      <td>0.238095</td>\n",
       "      <td>0.0</td>\n",
       "      <td>0.0</td>\n",
       "      <td>13</td>\n",
       "    </tr>\n",
       "    <tr>\n",
       "      <th>4</th>\n",
       "      <td>0.212766</td>\n",
       "      <td>1.0</td>\n",
       "      <td>0.604651</td>\n",
       "      <td>0.510870</td>\n",
       "      <td>0.520556</td>\n",
       "      <td>0.148810</td>\n",
       "      <td>0.0</td>\n",
       "      <td>0.0</td>\n",
       "      <td>159</td>\n",
       "    </tr>\n",
       "    <tr>\n",
       "      <th>...</th>\n",
       "      <td>...</td>\n",
       "      <td>...</td>\n",
       "      <td>...</td>\n",
       "      <td>...</td>\n",
       "      <td>...</td>\n",
       "      <td>...</td>\n",
       "      <td>...</td>\n",
       "      <td>...</td>\n",
       "      <td>...</td>\n",
       "    </tr>\n",
       "    <tr>\n",
       "      <th>401</th>\n",
       "      <td>0.478723</td>\n",
       "      <td>0.2</td>\n",
       "      <td>0.186047</td>\n",
       "      <td>0.217391</td>\n",
       "      <td>0.333711</td>\n",
       "      <td>0.452381</td>\n",
       "      <td>1.0</td>\n",
       "      <td>0.0</td>\n",
       "      <td>151</td>\n",
       "    </tr>\n",
       "    <tr>\n",
       "      <th>402</th>\n",
       "      <td>0.930851</td>\n",
       "      <td>0.2</td>\n",
       "      <td>0.074935</td>\n",
       "      <td>0.032609</td>\n",
       "      <td>0.146583</td>\n",
       "      <td>0.988095</td>\n",
       "      <td>1.0</td>\n",
       "      <td>0.5</td>\n",
       "      <td>297</td>\n",
       "    </tr>\n",
       "    <tr>\n",
       "      <th>403</th>\n",
       "      <td>0.611702</td>\n",
       "      <td>0.2</td>\n",
       "      <td>0.173127</td>\n",
       "      <td>0.206522</td>\n",
       "      <td>0.193365</td>\n",
       "      <td>0.214286</td>\n",
       "      <td>1.0</td>\n",
       "      <td>0.0</td>\n",
       "      <td>118</td>\n",
       "    </tr>\n",
       "    <tr>\n",
       "      <th>404</th>\n",
       "      <td>0.505319</td>\n",
       "      <td>0.2</td>\n",
       "      <td>0.134367</td>\n",
       "      <td>0.179348</td>\n",
       "      <td>0.286929</td>\n",
       "      <td>0.630952</td>\n",
       "      <td>1.0</td>\n",
       "      <td>0.0</td>\n",
       "      <td>157</td>\n",
       "    </tr>\n",
       "    <tr>\n",
       "      <th>405</th>\n",
       "      <td>0.585106</td>\n",
       "      <td>0.2</td>\n",
       "      <td>0.131783</td>\n",
       "      <td>0.195652</td>\n",
       "      <td>0.313864</td>\n",
       "      <td>0.678571</td>\n",
       "      <td>1.0</td>\n",
       "      <td>0.0</td>\n",
       "      <td>68</td>\n",
       "    </tr>\n",
       "  </tbody>\n",
       "</table>\n",
       "<p>392 rows × 9 columns</p>\n",
       "</div>"
      ],
      "text/plain": [
       "          mpg  cylinders  displacement  horsepower    weight  acceleration  \\\n",
       "0    0.239362        1.0      0.617571    0.456522  0.536150      0.238095   \n",
       "1    0.159574        1.0      0.728682    0.646739  0.589736      0.208333   \n",
       "2    0.239362        1.0      0.645995    0.565217  0.516870      0.178571   \n",
       "3    0.186170        1.0      0.609819    0.565217  0.516019      0.238095   \n",
       "4    0.212766        1.0      0.604651    0.510870  0.520556      0.148810   \n",
       "..        ...        ...           ...         ...       ...           ...   \n",
       "401  0.478723        0.2      0.186047    0.217391  0.333711      0.452381   \n",
       "402  0.930851        0.2      0.074935    0.032609  0.146583      0.988095   \n",
       "403  0.611702        0.2      0.173127    0.206522  0.193365      0.214286   \n",
       "404  0.505319        0.2      0.134367    0.179348  0.286929      0.630952   \n",
       "405  0.585106        0.2      0.131783    0.195652  0.313864      0.678571   \n",
       "\n",
       "     model_year  origin  car_name  \n",
       "0           0.0     0.0        48  \n",
       "1           0.0     0.0        35  \n",
       "2           0.0     0.0       229  \n",
       "3           0.0     0.0        13  \n",
       "4           0.0     0.0       159  \n",
       "..          ...     ...       ...  \n",
       "401         1.0     0.0       151  \n",
       "402         1.0     0.5       297  \n",
       "403         1.0     0.0       118  \n",
       "404         1.0     0.0       157  \n",
       "405         1.0     0.0        68  \n",
       "\n",
       "[392 rows x 9 columns]"
      ]
     },
     "execution_count": 12,
     "metadata": {},
     "output_type": "execute_result"
    }
   ],
   "source": [
    "auto[\"car_name\"]=auto[\"car_name\"].cat.codes\n",
    "auto"
   ]
  },
  {
   "cell_type": "code",
   "execution_count": 13,
   "id": "5561e455-3924-4f56-9620-4e9c638976cb",
   "metadata": {},
   "outputs": [],
   "source": [
    "auto[\"car_name\"]=auto[\"car_name\"].astype('float64')"
   ]
  },
  {
   "cell_type": "code",
   "execution_count": 14,
   "id": "83e9a41d-f298-45e9-aafa-ba08f8bd45b3",
   "metadata": {},
   "outputs": [
    {
     "data": {
      "text/plain": [
       "<AxesSubplot:>"
      ]
     },
     "execution_count": 14,
     "metadata": {},
     "output_type": "execute_result"
    },
    {
     "data": {
      "image/png": "[encoded data removed]",
      "text/plain": [
       "<Figure size 432x288 with 2 Axes>"
      ]
     },
     "metadata": {
      "needs_background": "light"
     },
     "output_type": "display_data"
    }
   ],
   "source": [
    "sns.heatmap(auto.corr(), annot = True)"
   ]
  },
  {
   "cell_type": "code",
   "execution_count": 15,
   "id": "160e8b1f-64cd-4df5-9b3b-96ccf4a88dd6",
   "metadata": {},
   "outputs": [
    {
     "data": {
      "text/plain": [
       "(392, 9)"
      ]
     },
     "execution_count": 15,
     "metadata": {},
     "output_type": "execute_result"
    }
   ],
   "source": [
    "auto.shape"
   ]
  },
  {
   "cell_type": "code",
   "execution_count": 16,
   "id": "fc0a86b4-1082-47bc-8c4d-f69fc530cd4a",
   "metadata": {},
   "outputs": [
    {
     "data": {
      "text/plain": [
       "mpg             392\n",
       "cylinders       392\n",
       "displacement    392\n",
       "horsepower      392\n",
       "weight          392\n",
       "acceleration    392\n",
       "model_year      392\n",
       "origin          392\n",
       "car_name        392\n",
       "dtype: int64"
      ]
     },
     "execution_count": 16,
     "metadata": {},
     "output_type": "execute_result"
    }
   ],
   "source": [
    "auto.count()"
   ]
  },
  {
   "cell_type": "code",
   "execution_count": 17,
   "id": "0d457939-9920-4c73-b9e0-1f10f32a5bf0",
   "metadata": {
    "tags": []
   },
   "outputs": [],
   "source": [
    "from sklearn.model_selection import train_test_split\n",
    "\n",
    "X = auto.drop(['mpg'], axis=1)\n",
    "Y = auto['mpg']\n",
    "X_train, X_test, Y_train, Y_test = train_test_split(X, Y, test_size=0.3)"
   ]
  },
  {
   "cell_type": "code",
   "execution_count": 18,
   "id": "c7420788-2bd0-4ac2-aa24-b9f6d84ecb4e",
   "metadata": {
    "tags": []
   },
   "outputs": [
    {
     "name": "stdout",
     "output_type": "stream",
     "text": [
      "Best alpha: 0.004500791998859594\n"
     ]
    }
   ],
   "source": [
    "from sklearn.linear_model import Lasso, LassoCV  # Регрессия лассо, перекрестная проверка LassoCV для достижения альфа-выбора\n",
    "lasso = LassoCV() # LassoCV автоматически настраивает альфа-канал, чтобы выбрать лучший альфа-канал.\n",
    "lasso.fit(X_train, Y_train)# Моделирование линейной регрессии\n",
    "print ('Best alpha:', lasso.alpha_)\n",
    "lasso_pred = lasso.predict(X_test)# Использовать прогноз модели\n"
   ]
  },
  {
   "cell_type": "code",
   "execution_count": 19,
   "id": "ac84f235-49c2-46e5-bae0-2aaf238e94c8",
   "metadata": {},
   "outputs": [
    {
     "name": "stdout",
     "output_type": "stream",
     "text": [
      "Error =  0.00808\n",
      "Pearson correl: 0.914036\n",
      "p-value: 2.822477386222598e-47\n",
      "Spearman correl: 0.950333\n",
      "p-value: 1.2260922225650153e-60\n"
     ]
    }
   ],
   "source": [
    "from sklearn.metrics import mean_squared_error\n",
    "from scipy import stats\n",
    "print('Error = %8.5f' %mean_squared_error(lasso_pred, Y_test)) #среднеквадратичная ошибка\n",
    "print('Pearson correl: %8.6f' %stats.pearsonr(lasso_pred, Y_test)[0]) #корреляция по Пирсону\n",
    "print('p-value:', stats.pearsonr(lasso_pred, Y_test)[1])\n",
    "print('Spearman correl: %8.6f' %stats.spearmanr(lasso_pred, Y_test)[0]) #корреляция по Спирману\n",
    "print('p-value:', stats.spearmanr(lasso_pred, Y_test)[1])"
   ]
  },
  {
   "cell_type": "code",
   "execution_count": 20,
   "id": "e65fda2f-02d5-4bef-8bae-4a73251fc1e6",
   "metadata": {},
   "outputs": [
    {
     "name": "stdout",
     "output_type": "stream",
     "text": [
      "Best alpha:  0.1\n"
     ]
    }
   ],
   "source": [
    "from sklearn.linear_model import Ridge, RidgeCV\n",
    "Ridge = RidgeCV()\n",
    "Ridge.fit(X_train, Y_train)\n",
    "print('Best alpha: ', Ridge.alpha_)\n",
    "Ridge_pred = Ridge.predict(X_test)"
   ]
  },
  {
   "cell_type": "code",
   "execution_count": 21,
   "id": "2a65ac10-0956-4655-9e10-ad58a408220b",
   "metadata": {},
   "outputs": [
    {
     "name": "stdout",
     "output_type": "stream",
     "text": [
      "Error =  0.00790\n",
      "Pearson correl: 0.915592\n",
      "p-value: 1.0235526748090419e-47\n",
      "Spearman correl: 0.953991\n",
      "p-value: 1.6114125576648261e-62\n"
     ]
    }
   ],
   "source": [
    "from sklearn.metrics import mean_squared_error\n",
    "from scipy import stats\n",
    "print('Error = %8.5f' %mean_squared_error(Ridge_pred, Y_test)) #среднеквадратичная ошибка\n",
    "print('Pearson correl: %8.6f' %stats.pearsonr(Ridge_pred, Y_test)[0]) #корреляция по Пирсону\n",
    "print('p-value:', stats.pearsonr(Ridge_pred, Y_test)[1])\n",
    "print('Spearman correl: %8.6f' %stats.spearmanr(Ridge_pred, Y_test)[0]) #корреляция по Спирману\n",
    "print('p-value:', stats.spearmanr(Ridge_pred, Y_test)[1])"
   ]
  },
  {
   "cell_type": "code",
   "execution_count": null,
   "id": "45913b0b-7f63-420c-87c1-ed229d5b2ee5",
   "metadata": {},
   "outputs": [],
   "source": []
  }
 ],
 "metadata": {
  "kernelspec": {
   "display_name": "Python 3 (ipykernel)",
   "language": "python",
   "name": "python3"
  },
  "language_info": {
   "codemirror_mode": {
    "name": "ipython",
    "version": 3
   },
   "file_extension": ".py",
   "mimetype": "text/x-python",
   "name": "python",
   "nbconvert_exporter": "python",
   "pygments_lexer": "ipython3",
   "version": "3.9.10"
  }
 },
 "nbformat": 4,
 "nbformat_minor": 5
}
